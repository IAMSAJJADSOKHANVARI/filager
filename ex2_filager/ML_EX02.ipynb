{
 "cells": [
  {
   "cell_type": "code",
   "execution_count": 3,
   "id": "e201398c",
   "metadata": {},
   "outputs": [
    {
     "name": "stdout",
     "output_type": "stream",
     "text": [
      "please Enter your number:  6\n",
      "Input: 6\n",
      "Array: [65  2 88 18 27  9]\n",
      "Max:  88\n",
      "Win\n"
     ]
    }
   ],
   "source": [
    "#import library\n",
    "import numpy as np\n",
    "#Enter your number for create array\n",
    "Input = int(input(\"please Enter your number:  \"))\n",
    "print(\"Input:\",Input)\n",
    "#sart to bear random number 0-100  and then create array Input example: if input==5 ---> [0,0,0,0,0]\n",
    "arr = np.random.randint(0, 101, Input)\n",
    "print(\"Array:\",arr)\n",
    "max_value = np.max(arr)\n",
    "print(\"Max: \", max_value)\n",
    "#use methode np.where for detect win or fail \n",
    "result = np.where(max_value > 70, \"Win\", \"Fail\")\n",
    "print(result)\n"
   ]
  },
  {
   "cell_type": "code",
   "execution_count": null,
   "id": "c3c11afd",
   "metadata": {},
   "outputs": [],
   "source": []
  }
 ],
 "metadata": {
  "kernelspec": {
   "display_name": "Python 3 (ipykernel)",
   "language": "python",
   "name": "python3"
  },
  "language_info": {
   "codemirror_mode": {
    "name": "ipython",
    "version": 3
   },
   "file_extension": ".py",
   "mimetype": "text/x-python",
   "name": "python",
   "nbconvert_exporter": "python",
   "pygments_lexer": "ipython3",
   "version": "3.9.13"
  }
 },
 "nbformat": 4,
 "nbformat_minor": 5
}
