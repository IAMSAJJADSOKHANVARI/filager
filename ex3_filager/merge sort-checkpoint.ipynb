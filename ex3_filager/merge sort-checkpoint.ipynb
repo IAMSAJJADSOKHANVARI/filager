{
 "cells": [
  {
   "cell_type": "markdown",
   "id": "ebcf558b",
   "metadata": {},
   "source": [
    "# Merge sort"
   ]
  },
  {
   "cell_type": "markdown",
   "id": "dc3ebb52",
   "metadata": {},
   "source": [
    "فرض کنید یک دسته کوچک از کارتهایی دارید که هر کدام بر روی آن یک عدد نوشته شده است. میخواهید این کارتها را به ترتیب اعدادشان مرتب کنید\n",
    "\n",
    "اولین قدم این است که دسته را به دو نیمه تقسیم کنید. سپس هر یک از نیمه ها را به صورت جداگانه مرتب میکنید. این کار را به صورت بازگشتی انجام میدهید، یعنی اگر هر یک از نیمه ها هنوز مرتب نشده است، آن نیمه را به تعداد کمتری دسته های کوچکتر تقسیم کرده و آنها را مرتب میکنید\n",
    "\n",
    "وقتی هر دو نیمه مرتب شدند، مرحله بعدی ادغام آنهاست. در این مرحله، نیمه اول و نیمه دوم را به ترتیب میگیرید و عناصر را به صورت مرتب در آرایه جدیدی ادغام میکنید. این عمل را با مقایسه اعداد هر دو آرایه و قرار دادن آنها در جای صحیح انجام میدهید\n",
    "\n",
    "پس از ادغام، آرایه حاصل را به عنوان نتیجه برمی گردانید. نکته جالب اینجاست که زمانی که دو آرایه مرتب شده را ادغام میکنید، همیشه یک آرایه مرتب جدید به دست میآید\n",
    "\n",
    "الگوریتم مرتب سازی ادغامی به دلیل روشی که برای تقسیم و ادغام از آن استفاده میکند، از مرتب سازی های موازی و خارج از صفحه نیز استفاده میشود"
   ]
  },
  {
   "cell_type": "code",
   "execution_count": 8,
   "id": "c67929f4",
   "metadata": {},
   "outputs": [
    {
     "name": "stdout",
     "output_type": "stream",
     "text": [
      "Enter your number for create array: 6\n",
      "it is not sort:  [36  1 39 21 10 43]\n",
      "it is sort:  [ 1 10 21 36 39 43]\n",
      "Merge sort\n"
     ]
    }
   ],
   "source": [
    "import numpy as np\n",
    "\n",
    "def merge_sort(arr):\n",
    "    if len(arr) <= 1:\n",
    "        return arr\n",
    "\n",
    "    mid = len(arr) // 2\n",
    "\n",
    "    left_half = merge_sort(arr[:mid])\n",
    "    right_half = merge_sort(arr[mid:])\n",
    "\n",
    "    # edqam 2 bakhsh moratab shodeh \n",
    "    sorted_arr = merge(left_half, right_half)\n",
    "\n",
    "    return sorted_arr\n",
    "\n",
    "def merge(left, right):\n",
    "    merged = np.concatenate((left, right))  # ejad yek array jadid az gerftan 2 array vorodi\n",
    "    merged.sort()  # moratab sazi arry\n",
    "\n",
    "    return merged\n",
    "\n",
    "vorodi=int (input(\"Enter your number for create array: \"))\n",
    "arr = np.random.randint(1,50,vorodi)\n",
    "print(\"it is not sort: \",arr)\n",
    "sorted_arr = merge_sort(arr)\n",
    "print(\"it is sort: \",sorted_arr)\n",
    "print(\"Merge sort\")"
   ]
  },
  {
   "cell_type": "code",
   "execution_count": null,
   "id": "ed180efe",
   "metadata": {},
   "outputs": [],
   "source": []
  }
 ],
 "metadata": {
  "kernelspec": {
   "display_name": "Python 3 (ipykernel)",
   "language": "python",
   "name": "python3"
  },
  "language_info": {
   "codemirror_mode": {
    "name": "ipython",
    "version": 3
   },
   "file_extension": ".py",
   "mimetype": "text/x-python",
   "name": "python",
   "nbconvert_exporter": "python",
   "pygments_lexer": "ipython3",
   "version": "3.9.13"
  }
 },
 "nbformat": 4,
 "nbformat_minor": 5
}
