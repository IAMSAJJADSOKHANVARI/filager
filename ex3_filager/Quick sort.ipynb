{
 "cells": [
  {
   "attachments": {},
   "cell_type": "markdown",
   "id": "f53ec5c8",
   "metadata": {
    "scrolled": true
   },
   "source": [
    "Quick Sort"
   ]
  },
  {
   "attachments": {},
   "cell_type": "markdown",
   "id": "4d795315",
   "metadata": {},
   "source": [
    "یک الگوریتم مرتب سازی مبتنی بر تقسیم و حل است \n",
    "تصور کنید لیستی از اعداد دارید که می خواهید آنها را به ترتیب صعودی مرتب کنید. الگوریتم مرتب سازی سریع به شما در انجام این کار کمک می کند. در اینجا نحوه کار آن آمده است:\n",
    "\n",
    "1. ابتدا یک عدد را از لیست انتخاب می کنید. این عدد \"pivot\" نامیده می شود. فرض کنید آخرین عدد را در لیست به عنوان محور انتخاب کرده اید.\n",
    "\n",
    "2. در مرحله بعد، اعداد باقی مانده در لیست را به دو گروه تقسیم می کنید: اعداد کوچکتر از پیوت و اعداد بزرگتر از محور.\n",
    "\n",
    "3. اکنون، این روند را برای هر یک از دو گروه تکرار می کنید. شما یک محور جدید برای هر گروه انتخاب می کنید و دوباره اعداد را به گروه های کوچکتر و بزرگتر تقسیم می کنید.\n",
    "\n",
    "4. این کار را ادامه می دهید تا زمانی که گروه هایی داشته باشید که فقط یک عدد دارند یا اصلاً شماره ندارند. این گروه ها قبلا مرتب شده اند زیرا فقط یک شماره دارند.\n",
    "\n",
    "5. در نهایت، همه گروه های مرتب شده را دوباره با هم ترکیب می کنید تا لیست کاملا مرتب شده را دریافت کنید.\n",
    "\n",
    "این فرآیند انتخاب یک محور، تقسیم اعداد و مرتب سازی آنها به صورت بازگشتی انجام می شود تا زمانی که کل لیست مرتب شود.\n",
    "\n",
    "دلیل نامگذاری آن به «مرتب‌سازی سریع» این است که میتواند فهرست را خیلی سریع مرتب کند، مخصوصاً وقتی فهرست بزرگ است"
   ]
  },
  {
   "cell_type": "code",
   "execution_count": 1,
   "id": "9714546c",
   "metadata": {},
   "outputs": [
    {
     "name": "stdout",
     "output_type": "stream",
     "text": [
      "Please enter your number for creat array: 6\n",
      "it is not sort: [52 65 83 17 78 81]\n",
      "it is sort:  [17 52 65 78 81 83]\n",
      "Quick sort\n"
     ]
    }
   ],
   "source": [
    "import numpy as np\n",
    "\n",
    "def quick_sort(arr):\n",
    "    if len(arr) <= 1:\n",
    "        return arr\n",
    "    \n",
    "    pivot = arr[-1]  # entekhab mehvar (entekhab OOnsor lola )\n",
    "    kochik = arr[arr < pivot]\n",
    "    mosavi = arr[arr == pivot]\n",
    "    bozorg = arr[arr > pivot]\n",
    "    \n",
    "    sorted_kochik = quick_sort(kochik)\n",
    "    sorted_bozorg = quick_sort(bozorg)\n",
    "    \n",
    "    return np.concatenate((sorted_kochik, mosavi, sorted_bozorg))\n",
    "\n",
    "\n",
    "vorodi=int(input(\"Please enter your number for creat array: \"))\n",
    "arr = np.random.randint(0,101,vorodi)\n",
    "print(\"it is not sort:\",arr)\n",
    "sorted_arr = quick_sort(arr)\n",
    "print(\"it is sort: \" ,  sorted_arr)\n",
    "print(\"Quick sort\")"
   ]
  },
  {
   "attachments": {},
   "cell_type": "markdown",
   "id": "687fb88f",
   "metadata": {},
   "source": [
    "\n"
   ]
  },
  {
   "cell_type": "code",
   "execution_count": null,
   "id": "14c06ff5",
   "metadata": {},
   "outputs": [],
   "source": []
  }
 ],
 "metadata": {
  "kernelspec": {
   "display_name": "Python 3 (ipykernel)",
   "language": "python",
   "name": "python3"
  },
  "language_info": {
   "codemirror_mode": {
    "name": "ipython",
    "version": 3
   },
   "file_extension": ".py",
   "mimetype": "text/x-python",
   "name": "python",
   "nbconvert_exporter": "python",
   "pygments_lexer": "ipython3",
   "version": "3.9.13"
  }
 },
 "nbformat": 4,
 "nbformat_minor": 5
}
