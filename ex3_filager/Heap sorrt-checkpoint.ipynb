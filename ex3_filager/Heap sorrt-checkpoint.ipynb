{
 "cells": [
  {
   "cell_type": "markdown",
   "id": "5cb0e26c",
   "metadata": {},
   "source": [
    "\n",
    "# heap sort"
   ]
  },
  {
   "cell_type": "markdown",
   "id": "66d1ecdb",
   "metadata": {},
   "source": [
    "\n",
    "تصور کنید یک دسته کارت دارید که می خواهید آنها را به ترتیب صعودی مرتب کنید. الگوریتم Heap Sort به شما در انجام این کار کمک می کند. در اینجا نحوه کار آن آمده است:\n",
    "\n",
    "ابتدا تمام کارتهای جلوی خود را بصورت رو به بالا باز میکنید\n",
    "\n",
    "شما با سازماندهی کارت ها در یک ساختار خاص به نام \"هیپ\" شروع می کنید. یک پشته مانند یک درخت باینری است که هر کارت نشان دهنده یک گره در درخت است\n",
    "\n",
    "در پشته، کارت ها بر اساس مقادیرشان به ترتیب خاصی چیده شده اند. گره والد هر کارتی ارزش بالاتری نسبت به فرزندان آن دارد. این به این معنی است که کارت با بالاترین ارزش در بالای پشته خواهد بود\n",
    "\n",
    "هنگامی که پشته ساخته شد، کارت را در بالا (آنی که بالاترین ارزش را دارد) می گیرید و آن را از پشته جدا می کنید. شما این کارت را در یک توده جداگانه قرار می دهید، که در نهایت لیست مرتب شده شما خواهد بود\n",
    "\n",
    "پس از برداشتن کارت بالایی، باید کارت های باقی مانده در پشته را دوباره سازماندهی کنید تا ساختار پشته حفظ شود. کارت با کمترین مقدار را از پایین پشته بردارید و در بالا قرار دهید. سپس، این کارت را با فرزندان آن مقایسه کرده و در صورت لزوم آن را با فرزند بزرگتر تعویض کنید. این فرآیند را تا زمانی که ساختار پشته دوباره حفظ شود، تکرار کنید\n",
    "\n",
    "کارت بالایی را از پشته جدا می کنید و آن را در شمع مرتب شده قرار می دهید تا زمانی که دیگر کارتی در پشته باقی نماند\n",
    "\n",
    "در نهایت، کارت های موجود در شمع مرتب شده به ترتیب صعودی، از کمترین مقدار به بالاترین مقدار خواهند بود. این لیست مرتب شده است"
   ]
  },
  {
   "cell_type": "code",
   "execution_count": 21,
   "id": "9eb8d556",
   "metadata": {},
   "outputs": [
    {
     "name": "stdout",
     "output_type": "stream",
     "text": [
      "Please enter your number for create array: 6\n",
      "it is not sort:  [ 6 57 99 63  5 33]\n",
      "it is sort [ 5  6 33 57 63 99]\n",
      "Heap sort\n"
     ]
    }
   ],
   "source": [
    "import numpy as np\n",
    "\n",
    "def heapify(arr, n, i):\n",
    "    largest = i\n",
    "    left = 2 * i + 1\n",
    "    right = 2 * i + 2\n",
    "\n",
    "    if left < n and arr[i] < arr[left]:\n",
    "        largest = left\n",
    "\n",
    "    if right < n and arr[largest] < arr[right]:\n",
    "        largest = right\n",
    "\n",
    "    if largest != i:\n",
    "        arr[[i, largest]] = arr[[largest, i]]\n",
    "        heapify(arr, n, largest)\n",
    "\n",
    "def heap_sort(arr):\n",
    "    n = arr.size\n",
    "\n",
    "    idx = np.arange(n // 2 - 1, -1, -1)\n",
    "    for i in idx:\n",
    "        heapify(arr, n, i)\n",
    "\n",
    "    idx = np.arange(n - 1, 0, -1)\n",
    "    for i in idx:\n",
    "        arr[[i, 0]] = arr[[0, i]]\n",
    "        heapify(arr, i, 0)\n",
    "\n",
    "    return arr\n",
    "\n",
    "vorodi=int(input (\"Please enter your number for create array: \"))\n",
    "arr = np.random.randint(1,100,vorodi)\n",
    "print(\"it is not sort: \",arr)\n",
    "sorted_arr = heap_sort(arr)\n",
    "print(\"it is sort\",sorted_arr)\n",
    "print(\"Heap sort\")\n"
   ]
  },
  {
   "cell_type": "code",
   "execution_count": null,
   "id": "65a1f1d5",
   "metadata": {},
   "outputs": [],
   "source": []
  },
  {
   "cell_type": "code",
   "execution_count": null,
   "id": "bd25cbaf",
   "metadata": {},
   "outputs": [],
   "source": []
  }
 ],
 "metadata": {
  "kernelspec": {
   "display_name": "Python 3 (ipykernel)",
   "language": "python",
   "name": "python3"
  },
  "language_info": {
   "codemirror_mode": {
    "name": "ipython",
    "version": 3
   },
   "file_extension": ".py",
   "mimetype": "text/x-python",
   "name": "python",
   "nbconvert_exporter": "python",
   "pygments_lexer": "ipython3",
   "version": "3.9.13"
  }
 },
 "nbformat": 4,
 "nbformat_minor": 5
}
